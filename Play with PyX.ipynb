{
 "cells": [
  {
   "cell_type": "code",
   "execution_count": 1,
   "metadata": {
    "collapsed": true
   },
   "outputs": [],
   "source": [
    "import pyx\n",
    "from IPython.display import display, SVG\n",
    "p = pyx.path"
   ]
  },
  {
   "cell_type": "markdown",
   "metadata": {},
   "source": [
    "# Drawing a rectangle"
   ]
  },
  {
   "cell_type": "code",
   "execution_count": 2,
   "metadata": {
    "collapsed": false
   },
   "outputs": [
    {
     "data": {
      "image/png": "[encoded data removed]",
      "image/svg+xml": [
       "<?xml version=\"1.0\" encoding=\"utf-8\"?>\n",
       "<svg xmlns=\"http://www.w3.org/2000/svg\" version=\"1.1\" x=\"-1pt\" fill=\"none\" width=\"30.3465pt\" stroke-width=\"0.566929\" height=\"30.3465pt\" y=\"-29.3465pt\" stroke-miterlimit=\"10.000000\" viewBox=\"-1 -29.3465 30.3465 30.3465\">\n",
       " <path stroke=\"black\" d=\"M0 -0L0 -28.3465L28.3465 -28.3465L28.3465 -0L0 -0Z\"/>\n",
       "</svg>\n"
      ],
      "text/plain": [
       "<pyx.canvas.canvas at 0x1077e08d0>"
      ]
     },
     "execution_count": 2,
     "metadata": {},
     "output_type": "execute_result"
    }
   ],
   "source": [
    "c = pyx.canvas.canvas()\n",
    "rect = p.path(p.moveto(0, 0), p.lineto(0, 1), p.lineto(1, 1), p.lineto(1, 0), p.lineto(0, 0), p.closepath())\n",
    "c.stroke(rect)\n",
    "c"
   ]
  },
  {
   "cell_type": "markdown",
   "metadata": {},
   "source": [
    "# Draw arrows"
   ]
  },
  {
   "cell_type": "code",
   "execution_count": 3,
   "metadata": {
    "collapsed": false
   },
   "outputs": [
    {
     "data": {
      "image/png": "[encoded data removed]",
      "image/svg+xml": [
       "<?xml version=\"1.0\" encoding=\"utf-8\"?>\n",
       "<svg xmlns=\"http://www.w3.org/2000/svg\" version=\"1.1\" x=\"-5.26197pt\" fill=\"none\" width=\"50.5859pt\" stroke-width=\"0.566929\" height=\"143.732pt\" y=\"-142.732pt\" stroke-miterlimit=\"10.000000\" viewBox=\"-5.26197 -142.732 50.5859 143.732\">\n",
       " <g stroke-width=\"0.708661\">\n",
       "  <path stroke=\"black\" d=\"M0 -130.918L0 -0L0 -141.732\"/>\n",
       "  <g stroke-dasharray=\"none\" stroke-linecap=\"butt\">\n",
       "   <path fill=\"black\" d=\"M-4.26197 -128.215L0 -141.732L4.26197 -128.215L0 -130.918Z\"/>\n",
       "  </g>\n",
       " </g>\n",
       " <path stroke=\"black\" d=\"M42.5197 -137.154L42.5197 -0L42.5197 -141.732\"/>\n",
       " <g stroke-dasharray=\"none\" stroke-linecap=\"butt\">\n",
       "  <path fill=\"black\" d=\"M40.7155 -136.01L42.5197 -141.732L44.3239 -136.01L42.5197 -137.154Z\"/>\n",
       " </g>\n",
       "</svg>\n"
      ],
      "text/plain": [
       "<pyx.canvas.canvas at 0x1077fc588>"
      ]
     },
     "execution_count": 3,
     "metadata": {},
     "output_type": "execute_result"
    }
   ],
   "source": [
    "c = pyx.canvas.canvas()\n",
    "a = p.path(p.moveto(0, 5), p.lineto(0, 0), p.closepath())\n",
    "a2 = p.path(p.moveto(1.5, 5), p.lineto(1.5, 0), p.closepath())\n",
    "c.stroke(a, [pyx.style.linewidth(0.025), pyx.deco.barrow(angle=35, size=0.5)])\n",
    "c.stroke(a2, [pyx.deco.barrow(angle=35)])\n",
    "c"
   ]
  },
  {
   "cell_type": "code",
   "execution_count": null,
   "metadata": {
    "collapsed": true
   },
   "outputs": [],
   "source": []
  }
 ],
 "metadata": {
  "kernelspec": {
   "display_name": "Python 3",
   "language": "python",
   "name": "python3"
  },
  "language_info": {
   "codemirror_mode": {
    "name": "ipython",
    "version": 3
   },
   "file_extension": ".py",
   "mimetype": "text/x-python",
   "name": "python",
   "nbconvert_exporter": "python",
   "pygments_lexer": "ipython3",
   "version": "3.5.2"
  }
 },
 "nbformat": 4,
 "nbformat_minor": 0
}
